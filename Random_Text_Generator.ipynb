{
  "nbformat": 4,
  "nbformat_minor": 0,
  "metadata": {
    "kernelspec": {
      "display_name": "Python 2",
      "language": "python",
      "name": "python2"
    },
    "language_info": {
      "codemirror_mode": {
        "name": "ipython",
        "version": 2
      },
      "file_extension": ".py",
      "mimetype": "text/x-python",
      "name": "python",
      "nbconvert_exporter": "python",
      "pygments_lexer": "ipython2",
      "version": "2.7.12"
    },
    "colab": {
      "name": "Random Text Generator.ipynb",
      "version": "0.3.2",
      "provenance": []
    }
  },
  "cells": [
    {
      "cell_type": "code",
      "metadata": {
        "id": "N34uRP4qg80m",
        "colab_type": "code",
        "colab": {}
      },
      "source": [
        "import numpy as np\n",
        "import re\n",
        "from matplotlib import pyplot as plt\n",
        "%matplotlib inline\n",
        "import random"
      ],
      "execution_count": 0,
      "outputs": []
    },
    {
      "cell_type": "code",
      "metadata": {
        "id": "4pmSlxMcg80t",
        "colab_type": "code",
        "colab": {}
      },
      "source": [
        "f = open('/home/priyam/Downloads/ML DATA/Shakespeare.txt', 'r')\n",
        "ds = f.read()\n",
        "f.close()"
      ],
      "execution_count": 0,
      "outputs": []
    },
    {
      "cell_type": "code",
      "metadata": {
        "id": "wOrkRrJwg80y",
        "colab_type": "code",
        "colab": {}
      },
      "source": [
        "start = 1221\n",
        "length = 30000\n",
        "data = ' '.join([ix.strip() for ix in ds[start:start+length].split('\\n')]).lower()\n"
      ],
      "execution_count": 0,
      "outputs": []
    },
    {
      "cell_type": "code",
      "metadata": {
        "id": "uTBcFRdZg801",
        "colab_type": "code",
        "colab": {},
        "outputId": "da929ce3-7ea9-4729-beef-888710331824"
      },
      "source": [
        "print len(data)"
      ],
      "execution_count": 0,
      "outputs": [
        {
          "output_type": "stream",
          "text": [
            "27541\n"
          ],
          "name": "stdout"
        }
      ]
    },
    {
      "cell_type": "code",
      "metadata": {
        "id": "A-TzixVxg809",
        "colab_type": "code",
        "colab": {}
      },
      "source": [
        "T = {}\n",
        "\n",
        "order = 3\n",
        "\n",
        "for ix in range(len(data)-order):\n",
        "    ctx = data[ix:ix+order]\n",
        "    \n",
        "    future_val = data[ix+order]\n",
        "    \n",
        "    if T.get(ctx) is None:\n",
        "        T[ctx] = {}\n",
        "        T[ctx][future_val] = 1\n",
        "    else:\n",
        "        if T[ctx].get(future_val) is None:\n",
        "            T[ctx][future_val] = 1\n",
        "        else:\n",
        "            T[ctx][future_val] += 1"
      ],
      "execution_count": 0,
      "outputs": []
    },
    {
      "cell_type": "code",
      "metadata": {
        "id": "9kdeqpyog81A",
        "colab_type": "code",
        "colab": {}
      },
      "source": [
        "for kx in T.keys():\n",
        "    s = float(sum(T[kx].values()))\n",
        "    \n",
        "    for k in T[kx].keys():\n",
        "        T[kx][k] = T[kx][k]/s"
      ],
      "execution_count": 0,
      "outputs": []
    },
    {
      "cell_type": "code",
      "metadata": {
        "id": "Ioze4CAUg81E",
        "colab_type": "code",
        "colab": {}
      },
      "source": [
        "def generate_next(ctx, diversity=1.0):\n",
        "    r = np.random.random()\n",
        "    \n",
        "    possible = T.get(ctx)\n",
        "    \n",
        "    if possible is None:\n",
        "        return ' '\n",
        "    \n",
        "    return np.random.choice(possible.keys(),p=possible.values())"
      ],
      "execution_count": 0,
      "outputs": []
    },
    {
      "cell_type": "code",
      "metadata": {
        "id": "pTbgQhY5g81H",
        "colab_type": "code",
        "colab": {},
        "outputId": "5e757ddc-d1ca-48d2-d6c4-d45554bbfc67"
      },
      "source": [
        "ind = int(np.random.random()*(len(data)-order))\n",
        "initial_state = data[ind:ind+order]\n",
        "ctx = initial_state\n",
        "\n",
        "sentence = '' + ctx\n",
        "\n",
        "for ix in range(500):\n",
        "    nxt = generate_next(ctx, diversity=0.8)\n",
        "    sentence += nxt\n",
        "    ctx = sentence[-order:]\n",
        "\n",
        "print sentence"
      ],
      "execution_count": 0,
      "outputs": [
        {
          "output_type": "stream",
          "text": [
            "ear raise from i mak’s churly knowled: maked theirst-born france in to borned night be all you shamlet thine eye, marchan to the eyes and rependowere hen thath wrongue, or as them sing masked love respossed.   40  whom frief where in heart, yet thou bearthly most due passalvingle he han you widows i proving ward: this, thee? non fore: the pity, than there bounty thy your sorry thy self audition, haven i sent sixth duty’s and sould fore as feath hide fine eyes flatter youtliven’d thy which sta\n"
          ],
          "name": "stdout"
        }
      ]
    },
    {
      "cell_type": "code",
      "metadata": {
        "id": "7e8GjCigg81N",
        "colab_type": "code",
        "colab": {}
      },
      "source": [
        ""
      ],
      "execution_count": 0,
      "outputs": []
    },
    {
      "cell_type": "code",
      "metadata": {
        "id": "mcGcfwbNg81Q",
        "colab_type": "code",
        "colab": {}
      },
      "source": [
        ""
      ],
      "execution_count": 0,
      "outputs": []
    },
    {
      "cell_type": "code",
      "metadata": {
        "id": "C_jbMkVWg81T",
        "colab_type": "code",
        "colab": {}
      },
      "source": [
        ""
      ],
      "execution_count": 0,
      "outputs": []
    },
    {
      "cell_type": "code",
      "metadata": {
        "id": "4tU8s2gsg81X",
        "colab_type": "code",
        "colab": {}
      },
      "source": [
        ""
      ],
      "execution_count": 0,
      "outputs": []
    },
    {
      "cell_type": "code",
      "metadata": {
        "id": "eO1Zn2Y8g81a",
        "colab_type": "code",
        "colab": {}
      },
      "source": [
        ""
      ],
      "execution_count": 0,
      "outputs": []
    },
    {
      "cell_type": "code",
      "metadata": {
        "id": "BkqU9NEvg81d",
        "colab_type": "code",
        "colab": {}
      },
      "source": [
        ""
      ],
      "execution_count": 0,
      "outputs": []
    },
    {
      "cell_type": "code",
      "metadata": {
        "id": "6O1z5hm9g81j",
        "colab_type": "code",
        "colab": {}
      },
      "source": [
        ""
      ],
      "execution_count": 0,
      "outputs": []
    }
  ]
}